{
 "cells": [
  {
   "cell_type": "markdown",
   "id": "2341b96f",
   "metadata": {},
   "source": [
    "# Pandas Leistungsnachweis\n",
    "\n",
    "## Inhaltsverzeichnis\n",
    "1. Fragestellung und Datenbeschaffung\n",
    "2. Daten laden\n",
    "3. Daten vorbereiten\n",
    "4. Statistik der Rohdaten (Generell im Longformat)\n",
    "5. Analyse der Daten\n",
    "\n",
    "**Wichtig:** Alle graphischen Darstellungen sollten mindestens *Titel, Ticks- und Achsenbeschriftung* beinhalten (Siehe plots im Leistungsnachweisbeispiel)"
   ]
  },
  {
   "cell_type": "markdown",
   "id": "f9e9bf68",
   "metadata": {},
   "source": [
    "## 1. Fragestellungen und Datenbeschaffung\n",
    "### 1.1 Titel: \n",
    "- \"Mütterliche Sterblichkeitsraten der Weltbevölkerung\"\n",
    "### 1.2 Fragestellung:\n",
    "- \"Welche fünf Länder zeigen durchschnittlich in den letzten 20 Jahren die höchste müttlerliche Sterblichkeitsrate? Was sind mögliche Gründe für Veränderungen dieser Zahlen?\"   \n",
    "### 1.3 Datenquellen:\n",
    "- [Maternal-Mortality](https://ourworldindata.org/maternal-mortality)\n",
    "\n",
    "\n",
    "\n"
   ]
  },
  {
   "cell_type": "markdown",
   "id": "ba72920b",
   "metadata": {},
   "source": [
    "### 1.4 Daten beschaffen und laden"
   ]
  },
  {
   "cell_type": "code",
   "execution_count": 39,
   "id": "a27050af",
   "metadata": {},
   "outputs": [],
   "source": [
    "import pandas as pd\n",
    "from matplotlib import pyplot as plt"
   ]
  },
  {
   "cell_type": "code",
   "execution_count": 40,
   "id": "47a24830",
   "metadata": {},
   "outputs": [
    {
     "data": {
      "text/html": [
       "<div>\n",
       "<style scoped>\n",
       "    .dataframe tbody tr th:only-of-type {\n",
       "        vertical-align: middle;\n",
       "    }\n",
       "\n",
       "    .dataframe tbody tr th {\n",
       "        vertical-align: top;\n",
       "    }\n",
       "\n",
       "    .dataframe thead th {\n",
       "        text-align: right;\n",
       "    }\n",
       "</style>\n",
       "<table border=\"1\" class=\"dataframe\">\n",
       "  <thead>\n",
       "    <tr style=\"text-align: right;\">\n",
       "      <th></th>\n",
       "      <th>Entity</th>\n",
       "      <th>Code</th>\n",
       "      <th>Year</th>\n",
       "      <th>Estimated maternal deaths</th>\n",
       "    </tr>\n",
       "  </thead>\n",
       "  <tbody>\n",
       "    <tr>\n",
       "      <th>0</th>\n",
       "      <td>Afghanistan</td>\n",
       "      <td>AFG</td>\n",
       "      <td>1985</td>\n",
       "      <td>10258.5340</td>\n",
       "    </tr>\n",
       "    <tr>\n",
       "      <th>1</th>\n",
       "      <td>Afghanistan</td>\n",
       "      <td>AFG</td>\n",
       "      <td>1986</td>\n",
       "      <td>8671.9210</td>\n",
       "    </tr>\n",
       "    <tr>\n",
       "      <th>2</th>\n",
       "      <td>Afghanistan</td>\n",
       "      <td>AFG</td>\n",
       "      <td>1987</td>\n",
       "      <td>8488.9600</td>\n",
       "    </tr>\n",
       "    <tr>\n",
       "      <th>3</th>\n",
       "      <td>Afghanistan</td>\n",
       "      <td>AFG</td>\n",
       "      <td>1988</td>\n",
       "      <td>7522.1216</td>\n",
       "    </tr>\n",
       "    <tr>\n",
       "      <th>4</th>\n",
       "      <td>Afghanistan</td>\n",
       "      <td>AFG</td>\n",
       "      <td>1989</td>\n",
       "      <td>7549.7050</td>\n",
       "    </tr>\n",
       "  </tbody>\n",
       "</table>\n",
       "</div>"
      ],
      "text/plain": [
       "        Entity Code  Year  Estimated maternal deaths\n",
       "0  Afghanistan  AFG  1985                 10258.5340\n",
       "1  Afghanistan  AFG  1986                  8671.9210\n",
       "2  Afghanistan  AFG  1987                  8488.9600\n",
       "3  Afghanistan  AFG  1988                  7522.1216\n",
       "4  Afghanistan  AFG  1989                  7549.7050"
      ]
     },
     "execution_count": 40,
     "metadata": {},
     "output_type": "execute_result"
    }
   ],
   "source": [
    "# Daten laden\n",
    "data = pd.read_csv('number-of-maternal-deaths-by-region.csv', skiprows=1,\n",
    "                 names=['Entity','Code','Year','Estimated maternal deaths']) \n",
    "data.head()"
   ]
  },
  {
   "cell_type": "markdown",
   "id": "25d1e798",
   "metadata": {},
   "source": [
    "## 2. Daten vorbereiten \n",
    "- Welches Format hat mein Datensatz bzw. wie sind meine Kolumnen strukturiert?\n",
    "    - Meine Daten sind im long-Format und werden später zur besseren Visualisierung in das wide-Format gebracht.\n",
    "- Welches Format kann ich für welche Teilschritte verwenden (wann soll ich pivot bzw. wide format verwenden)?\n",
    "- Welche Datentypen kommen in meinem Datensatz vor?"
   ]
  },
  {
   "cell_type": "code",
   "execution_count": 41,
   "id": "edfbb0ab",
   "metadata": {},
   "outputs": [
    {
     "data": {
      "text/html": [
       "<div>\n",
       "<style scoped>\n",
       "    .dataframe tbody tr th:only-of-type {\n",
       "        vertical-align: middle;\n",
       "    }\n",
       "\n",
       "    .dataframe tbody tr th {\n",
       "        vertical-align: top;\n",
       "    }\n",
       "\n",
       "    .dataframe thead th {\n",
       "        text-align: right;\n",
       "    }\n",
       "</style>\n",
       "<table border=\"1\" class=\"dataframe\">\n",
       "  <thead>\n",
       "    <tr style=\"text-align: right;\">\n",
       "      <th></th>\n",
       "      <th>Entity</th>\n",
       "      <th>Code</th>\n",
       "      <th>Year</th>\n",
       "      <th>Estimated maternal deaths</th>\n",
       "    </tr>\n",
       "  </thead>\n",
       "  <tbody>\n",
       "    <tr>\n",
       "      <th>15</th>\n",
       "      <td>Afghanistan</td>\n",
       "      <td>AFG</td>\n",
       "      <td>2000</td>\n",
       "      <td>13407.5960</td>\n",
       "    </tr>\n",
       "    <tr>\n",
       "      <th>16</th>\n",
       "      <td>Afghanistan</td>\n",
       "      <td>AFG</td>\n",
       "      <td>2001</td>\n",
       "      <td>12339.5500</td>\n",
       "    </tr>\n",
       "    <tr>\n",
       "      <th>17</th>\n",
       "      <td>Afghanistan</td>\n",
       "      <td>AFG</td>\n",
       "      <td>2002</td>\n",
       "      <td>12517.6180</td>\n",
       "    </tr>\n",
       "    <tr>\n",
       "      <th>18</th>\n",
       "      <td>Afghanistan</td>\n",
       "      <td>AFG</td>\n",
       "      <td>2003</td>\n",
       "      <td>12714.4440</td>\n",
       "    </tr>\n",
       "    <tr>\n",
       "      <th>19</th>\n",
       "      <td>Afghanistan</td>\n",
       "      <td>AFG</td>\n",
       "      <td>2004</td>\n",
       "      <td>12230.3125</td>\n",
       "    </tr>\n",
       "  </tbody>\n",
       "</table>\n",
       "</div>"
      ],
      "text/plain": [
       "         Entity Code  Year  Estimated maternal deaths\n",
       "15  Afghanistan  AFG  2000                 13407.5960\n",
       "16  Afghanistan  AFG  2001                 12339.5500\n",
       "17  Afghanistan  AFG  2002                 12517.6180\n",
       "18  Afghanistan  AFG  2003                 12714.4440\n",
       "19  Afghanistan  AFG  2004                 12230.3125"
      ]
     },
     "execution_count": 41,
     "metadata": {},
     "output_type": "execute_result"
    }
   ],
   "source": [
    "# alle Kontinente und Übergruppen filtern\n",
    "\n",
    "drop_values = ['Africa', 'Asia', 'Europe', 'High-income countries', 'Low-income countries', 'Lower-middle-income countries', 'North Korea','Oceania', 'South Korea', 'Upper-middle-income countries', 'World']\n",
    "data_oc = data[~data['Entity'].isin(drop_values)] #Data only countries\n",
    "\n",
    "# für Fragestellung Datensatz nach Jahr filtern\n",
    "\n",
    "data_20 = data_oc[(data_oc['Year'] >= 2000) & (data_oc['Year'] <= 2020)] #Data with countries between 2000 and 2020\n",
    "data_20.head()"
   ]
  },
  {
   "cell_type": "code",
   "execution_count": 42,
   "id": "f8f30dcd",
   "metadata": {},
   "outputs": [
    {
     "data": {
      "text/html": [
       "<div>\n",
       "<style scoped>\n",
       "    .dataframe tbody tr th:only-of-type {\n",
       "        vertical-align: middle;\n",
       "    }\n",
       "\n",
       "    .dataframe tbody tr th {\n",
       "        vertical-align: top;\n",
       "    }\n",
       "\n",
       "    .dataframe thead th {\n",
       "        text-align: right;\n",
       "    }\n",
       "</style>\n",
       "<table border=\"1\" class=\"dataframe\">\n",
       "  <thead>\n",
       "    <tr style=\"text-align: right;\">\n",
       "      <th>Year</th>\n",
       "      <th>1985</th>\n",
       "      <th>1986</th>\n",
       "      <th>1987</th>\n",
       "      <th>1988</th>\n",
       "      <th>1989</th>\n",
       "      <th>1990</th>\n",
       "      <th>1991</th>\n",
       "      <th>1992</th>\n",
       "      <th>1993</th>\n",
       "      <th>1994</th>\n",
       "      <th>...</th>\n",
       "      <th>2011</th>\n",
       "      <th>2012</th>\n",
       "      <th>2013</th>\n",
       "      <th>2014</th>\n",
       "      <th>2015</th>\n",
       "      <th>2016</th>\n",
       "      <th>2017</th>\n",
       "      <th>2018</th>\n",
       "      <th>2019</th>\n",
       "      <th>2020</th>\n",
       "    </tr>\n",
       "    <tr>\n",
       "      <th>Entity</th>\n",
       "      <th></th>\n",
       "      <th></th>\n",
       "      <th></th>\n",
       "      <th></th>\n",
       "      <th></th>\n",
       "      <th></th>\n",
       "      <th></th>\n",
       "      <th></th>\n",
       "      <th></th>\n",
       "      <th></th>\n",
       "      <th></th>\n",
       "      <th></th>\n",
       "      <th></th>\n",
       "      <th></th>\n",
       "      <th></th>\n",
       "      <th></th>\n",
       "      <th></th>\n",
       "      <th></th>\n",
       "      <th></th>\n",
       "      <th></th>\n",
       "      <th></th>\n",
       "    </tr>\n",
       "  </thead>\n",
       "  <tbody>\n",
       "    <tr>\n",
       "      <th>Afghanistan</th>\n",
       "      <td>10258.534000</td>\n",
       "      <td>8671.921000</td>\n",
       "      <td>8488.960000</td>\n",
       "      <td>7522.121600</td>\n",
       "      <td>7549.705000</td>\n",
       "      <td>7812.458500</td>\n",
       "      <td>7743.889000</td>\n",
       "      <td>8404.729500</td>\n",
       "      <td>9554.337000</td>\n",
       "      <td>10849.466000</td>\n",
       "      <td>...</td>\n",
       "      <td>10233.407000</td>\n",
       "      <td>10143.417000</td>\n",
       "      <td>10242.153000</td>\n",
       "      <td>10013.264000</td>\n",
       "      <td>10208.116000</td>\n",
       "      <td>9867.574000</td>\n",
       "      <td>9081.677000</td>\n",
       "      <td>8996.077000</td>\n",
       "      <td>8878.076000</td>\n",
       "      <td>8698.113000</td>\n",
       "    </tr>\n",
       "    <tr>\n",
       "      <th>Albania</th>\n",
       "      <td>40.066902</td>\n",
       "      <td>35.250170</td>\n",
       "      <td>32.930653</td>\n",
       "      <td>30.484293</td>\n",
       "      <td>28.652466</td>\n",
       "      <td>26.628704</td>\n",
       "      <td>22.968624</td>\n",
       "      <td>21.309374</td>\n",
       "      <td>19.886590</td>\n",
       "      <td>17.938005</td>\n",
       "      <td>...</td>\n",
       "      <td>2.815829</td>\n",
       "      <td>2.728846</td>\n",
       "      <td>2.597531</td>\n",
       "      <td>2.453451</td>\n",
       "      <td>2.338617</td>\n",
       "      <td>2.196508</td>\n",
       "      <td>2.073806</td>\n",
       "      <td>1.628788</td>\n",
       "      <td>1.591507</td>\n",
       "      <td>2.482934</td>\n",
       "    </tr>\n",
       "    <tr>\n",
       "      <th>Algeria</th>\n",
       "      <td>2187.816200</td>\n",
       "      <td>2024.160600</td>\n",
       "      <td>1966.334100</td>\n",
       "      <td>1822.979900</td>\n",
       "      <td>1744.921300</td>\n",
       "      <td>1615.685300</td>\n",
       "      <td>1601.330400</td>\n",
       "      <td>1608.767300</td>\n",
       "      <td>1586.664300</td>\n",
       "      <td>1540.073000</td>\n",
       "      <td>...</td>\n",
       "      <td>957.606700</td>\n",
       "      <td>938.247740</td>\n",
       "      <td>905.703100</td>\n",
       "      <td>848.591900</td>\n",
       "      <td>895.783140</td>\n",
       "      <td>904.216700</td>\n",
       "      <td>908.372700</td>\n",
       "      <td>802.861200</td>\n",
       "      <td>763.307700</td>\n",
       "      <td>757.524200</td>\n",
       "    </tr>\n",
       "    <tr>\n",
       "      <th>Angola</th>\n",
       "      <td>5698.489000</td>\n",
       "      <td>5832.260000</td>\n",
       "      <td>5653.750500</td>\n",
       "      <td>5821.093800</td>\n",
       "      <td>6489.137700</td>\n",
       "      <td>6675.125000</td>\n",
       "      <td>6577.188500</td>\n",
       "      <td>7266.202600</td>\n",
       "      <td>7125.992700</td>\n",
       "      <td>7074.371000</td>\n",
       "      <td>...</td>\n",
       "      <td>3595.014200</td>\n",
       "      <td>3353.565700</td>\n",
       "      <td>3292.978000</td>\n",
       "      <td>3372.599400</td>\n",
       "      <td>3231.174800</td>\n",
       "      <td>3251.374300</td>\n",
       "      <td>3112.027800</td>\n",
       "      <td>2930.020000</td>\n",
       "      <td>2923.500700</td>\n",
       "      <td>2913.632300</td>\n",
       "    </tr>\n",
       "    <tr>\n",
       "      <th>Antigua and Barbuda</th>\n",
       "      <td>0.589864</td>\n",
       "      <td>0.581662</td>\n",
       "      <td>0.574431</td>\n",
       "      <td>0.526846</td>\n",
       "      <td>0.541508</td>\n",
       "      <td>0.580267</td>\n",
       "      <td>0.522920</td>\n",
       "      <td>0.540666</td>\n",
       "      <td>0.522669</td>\n",
       "      <td>0.516758</td>\n",
       "      <td>...</td>\n",
       "      <td>0.312501</td>\n",
       "      <td>0.302136</td>\n",
       "      <td>0.288069</td>\n",
       "      <td>0.227027</td>\n",
       "      <td>0.271664</td>\n",
       "      <td>0.212515</td>\n",
       "      <td>0.211225</td>\n",
       "      <td>0.188674</td>\n",
       "      <td>0.189132</td>\n",
       "      <td>0.212479</td>\n",
       "    </tr>\n",
       "  </tbody>\n",
       "</table>\n",
       "<p>5 rows × 36 columns</p>\n",
       "</div>"
      ],
      "text/plain": [
       "Year                         1985         1986         1987         1988  \\\n",
       "Entity                                                                     \n",
       "Afghanistan          10258.534000  8671.921000  8488.960000  7522.121600   \n",
       "Albania                 40.066902    35.250170    32.930653    30.484293   \n",
       "Algeria               2187.816200  2024.160600  1966.334100  1822.979900   \n",
       "Angola                5698.489000  5832.260000  5653.750500  5821.093800   \n",
       "Antigua and Barbuda      0.589864     0.581662     0.574431     0.526846   \n",
       "\n",
       "Year                        1989         1990         1991         1992  \\\n",
       "Entity                                                                    \n",
       "Afghanistan          7549.705000  7812.458500  7743.889000  8404.729500   \n",
       "Albania                28.652466    26.628704    22.968624    21.309374   \n",
       "Algeria              1744.921300  1615.685300  1601.330400  1608.767300   \n",
       "Angola               6489.137700  6675.125000  6577.188500  7266.202600   \n",
       "Antigua and Barbuda     0.541508     0.580267     0.522920     0.540666   \n",
       "\n",
       "Year                        1993          1994  ...          2011  \\\n",
       "Entity                                          ...                 \n",
       "Afghanistan          9554.337000  10849.466000  ...  10233.407000   \n",
       "Albania                19.886590     17.938005  ...      2.815829   \n",
       "Algeria              1586.664300   1540.073000  ...    957.606700   \n",
       "Angola               7125.992700   7074.371000  ...   3595.014200   \n",
       "Antigua and Barbuda     0.522669      0.516758  ...      0.312501   \n",
       "\n",
       "Year                         2012          2013          2014          2015  \\\n",
       "Entity                                                                        \n",
       "Afghanistan          10143.417000  10242.153000  10013.264000  10208.116000   \n",
       "Albania                  2.728846      2.597531      2.453451      2.338617   \n",
       "Algeria                938.247740    905.703100    848.591900    895.783140   \n",
       "Angola                3353.565700   3292.978000   3372.599400   3231.174800   \n",
       "Antigua and Barbuda      0.302136      0.288069      0.227027      0.271664   \n",
       "\n",
       "Year                        2016         2017         2018         2019  \\\n",
       "Entity                                                                    \n",
       "Afghanistan          9867.574000  9081.677000  8996.077000  8878.076000   \n",
       "Albania                 2.196508     2.073806     1.628788     1.591507   \n",
       "Algeria               904.216700   908.372700   802.861200   763.307700   \n",
       "Angola               3251.374300  3112.027800  2930.020000  2923.500700   \n",
       "Antigua and Barbuda     0.212515     0.211225     0.188674     0.189132   \n",
       "\n",
       "Year                        2020  \n",
       "Entity                            \n",
       "Afghanistan          8698.113000  \n",
       "Albania                 2.482934  \n",
       "Algeria               757.524200  \n",
       "Angola               2913.632300  \n",
       "Antigua and Barbuda     0.212479  \n",
       "\n",
       "[5 rows x 36 columns]"
      ]
     },
     "execution_count": 42,
     "metadata": {},
     "output_type": "execute_result"
    }
   ],
   "source": [
    "pivot_dataoc = data_oc.pivot(index='Entity', columns='Year', values='Estimated maternal deaths')\n",
    "pivot_dataoc.head()"
   ]
  },
  {
   "cell_type": "code",
   "execution_count": 43,
   "id": "d22e219f",
   "metadata": {},
   "outputs": [
    {
     "data": {
      "text/html": [
       "<div>\n",
       "<style scoped>\n",
       "    .dataframe tbody tr th:only-of-type {\n",
       "        vertical-align: middle;\n",
       "    }\n",
       "\n",
       "    .dataframe tbody tr th {\n",
       "        vertical-align: top;\n",
       "    }\n",
       "\n",
       "    .dataframe thead th {\n",
       "        text-align: right;\n",
       "    }\n",
       "</style>\n",
       "<table border=\"1\" class=\"dataframe\">\n",
       "  <thead>\n",
       "    <tr style=\"text-align: right;\">\n",
       "      <th></th>\n",
       "      <th>Year</th>\n",
       "      <th>Estimated maternal deaths</th>\n",
       "    </tr>\n",
       "  </thead>\n",
       "  <tbody>\n",
       "    <tr>\n",
       "      <th>count</th>\n",
       "      <td>6660.000000</td>\n",
       "      <td>6660.000000</td>\n",
       "    </tr>\n",
       "    <tr>\n",
       "      <th>mean</th>\n",
       "      <td>2002.500000</td>\n",
       "      <td>2360.831399</td>\n",
       "    </tr>\n",
       "    <tr>\n",
       "      <th>std</th>\n",
       "      <td>10.389075</td>\n",
       "      <td>9504.655782</td>\n",
       "    </tr>\n",
       "    <tr>\n",
       "      <th>min</th>\n",
       "      <td>1985.000000</td>\n",
       "      <td>0.061462</td>\n",
       "    </tr>\n",
       "    <tr>\n",
       "      <th>25%</th>\n",
       "      <td>1993.750000</td>\n",
       "      <td>9.030371</td>\n",
       "    </tr>\n",
       "    <tr>\n",
       "      <th>50%</th>\n",
       "      <td>2002.500000</td>\n",
       "      <td>104.153128</td>\n",
       "    </tr>\n",
       "    <tr>\n",
       "      <th>75%</th>\n",
       "      <td>2011.250000</td>\n",
       "      <td>1331.011225</td>\n",
       "    </tr>\n",
       "    <tr>\n",
       "      <th>max</th>\n",
       "      <td>2020.000000</td>\n",
       "      <td>174664.020000</td>\n",
       "    </tr>\n",
       "  </tbody>\n",
       "</table>\n",
       "</div>"
      ],
      "text/plain": [
       "              Year  Estimated maternal deaths\n",
       "count  6660.000000                6660.000000\n",
       "mean   2002.500000                2360.831399\n",
       "std      10.389075                9504.655782\n",
       "min    1985.000000                   0.061462\n",
       "25%    1993.750000                   9.030371\n",
       "50%    2002.500000                 104.153128\n",
       "75%    2011.250000                1331.011225\n",
       "max    2020.000000              174664.020000"
      ]
     },
     "execution_count": 43,
     "metadata": {},
     "output_type": "execute_result"
    }
   ],
   "source": [
    "# Zusammenfassung der gefilterten Daten\n",
    "data_oc.describe()"
   ]
  },
  {
   "cell_type": "code",
   "execution_count": 44,
   "id": "b3f21596",
   "metadata": {},
   "outputs": [
    {
     "data": {
      "text/plain": [
       "Entity\n",
       "India         90486.879917\n",
       "Nigeria       65352.491194\n",
       "Ethiopia      23616.765306\n",
       "Bangladesh    18139.741306\n",
       "Pakistan      17436.317472\n",
       "Name: Estimated maternal deaths, dtype: float64"
      ]
     },
     "execution_count": 44,
     "metadata": {},
     "output_type": "execute_result"
    }
   ],
   "source": [
    "# Durchschnittliche maternale Todesfälle pro Land berechnen\n",
    "\n",
    "data_avg_deaths = (data_oc.groupby('Entity')['Estimated maternal deaths']\n",
    "    .mean()\n",
    "    .sort_values(ascending=False)\n",
    "    .head(5)\n",
    ")\n",
    " \n",
    "\n",
    "# Die Top 5 Länder mit den höchsten durchschnittlichen maternalen Sterblichkeitsraten\n",
    "\n",
    "top_countries = data_avg_deaths.index.tolist()\n",
    "data_avg_deaths # von ganzem Datensatz\n"
   ]
  },
  {
   "cell_type": "markdown",
   "id": "28195847",
   "metadata": {},
   "source": [
    "## 3. Statistik der Rohdaten (Analyse im Long-Format)\n",
    "- Ist meine Variable kontinuierlich oder diskret? Falls diskret, wieviele einzigartige Klassen gibt es? Wieviele Datenpunkte pro Klasse sind vorhanden?\n",
    "- Anzahl Datenpunkte (Beschreibend und Graphische Darstellung)\n",
    "    - Wieviele Datenpunkte sind für die bestimmten Variabeln vorhanden?\n",
    "    - Wo fehlen Datenpunkte?\n",
    "- Wie ist die Verteilung der zu untersuchenden Variabel(n) (Histogram, Boxplot, Säulendiagram)\n",
    "- Vermutest du Zusammenhänge zwischen zwei Variabeln (Streuungsdiagramm, Korrelationsmatrix)\n",
    "\n",
    "*Notiz: Zu jeder Kolumne sollte generell eine Aussage möglich sein.*"
   ]
  },
  {
   "cell_type": "code",
   "execution_count": 45,
   "id": "6db8081e",
   "metadata": {},
   "outputs": [
    {
     "data": {
      "text/plain": [
       "Entity                        object\n",
       "Code                          object\n",
       "Year                           int64\n",
       "Estimated maternal deaths    float64\n",
       "dtype: object"
      ]
     },
     "execution_count": 45,
     "metadata": {},
     "output_type": "execute_result"
    }
   ],
   "source": [
    "data_oc.dtypes"
   ]
  },
  {
   "cell_type": "markdown",
   "id": "76cb3525",
   "metadata": {},
   "source": [
    "## 3.1 Datenanalyse nach Land"
   ]
  },
  {
   "cell_type": "code",
   "execution_count": 46,
   "id": "68dd7a6b",
   "metadata": {},
   "outputs": [
    {
     "name": "stdout",
     "output_type": "stream",
     "text": [
      "Anzahl der Länder:  185\n"
     ]
    }
   ],
   "source": [
    "# Anzahl Länder\n",
    "print('Anzahl der Länder: ', len(data_oc['Entity'].unique()))"
   ]
  },
  {
   "cell_type": "markdown",
   "id": "18db6192",
   "metadata": {},
   "source": [
    "- Es sind 185 Länder im Datensatz enthalten, hier wurden Kontinente und Überkategorien wie \"Low-income-countries\" gefiltert.\n"
   ]
  },
  {
   "cell_type": "code",
   "execution_count": 47,
   "id": "7e8a32b8",
   "metadata": {},
   "outputs": [
    {
     "data": {
      "text/plain": [
       "Entity\n",
       "Afghanistan    36\n",
       "Panama         36\n",
       "Nicaragua      36\n",
       "Niger          36\n",
       "Nigeria        36\n",
       "               ..\n",
       "Ghana          36\n",
       "Greece         36\n",
       "Grenada        36\n",
       "Guatemala      36\n",
       "Zimbabwe       36\n",
       "Name: count, Length: 185, dtype: int64"
      ]
     },
     "execution_count": 47,
     "metadata": {},
     "output_type": "execute_result"
    }
   ],
   "source": [
    "# Anzahl Datenpunkte pro Länder\n",
    "data_oc['Entity'].value_counts()"
   ]
  },
  {
   "cell_type": "code",
   "execution_count": 48,
   "id": "1d34c80c",
   "metadata": {},
   "outputs": [
    {
     "data": {
      "text/plain": [
       "<Axes: title={'center': 'Anzahl Datenpunkte pro Land'}, xlabel='Entity', ylabel='Anzahl Datenpunkte'>"
      ]
     },
     "execution_count": 48,
     "metadata": {},
     "output_type": "execute_result"
    },
    {
     "data": {
      "image/png": "[encoded data removed]",
      "text/plain": [
       "<Figure size 640x480 with 1 Axes>"
      ]
     },
     "metadata": {},
     "output_type": "display_data"
    }
   ],
   "source": [
    "data_oc['Entity'].value_counts().plot(kind='bar', \n",
    "                                 xticks=[],     # disable labels on x-axis\n",
    "                                 ylabel='Anzahl Datenpunkte', title='Anzahl Datenpunkte pro Land')"
   ]
  },
  {
   "cell_type": "markdown",
   "id": "9f10cba3",
   "metadata": {},
   "source": [
    "## 3.2 Datenanalyse nach Jahr"
   ]
  },
  {
   "cell_type": "code",
   "execution_count": 49,
   "id": "bddd645a",
   "metadata": {},
   "outputs": [
    {
     "name": "stdout",
     "output_type": "stream",
     "text": [
      "Anzahl Jahre:  36\n"
     ]
    }
   ],
   "source": [
    "# Anzahl Jahre im Datensatz\n",
    "print('Anzahl Jahre: ', len(data_oc['Year'].unique()))"
   ]
  },
  {
   "cell_type": "markdown",
   "id": "7a608015",
   "metadata": {},
   "source": [
    "- alle Länder haben seit 1985, in den 36 Jahren, einen Datenpunkt"
   ]
  },
  {
   "cell_type": "code",
   "execution_count": 50,
   "id": "7420cfb0",
   "metadata": {},
   "outputs": [
    {
     "data": {
      "text/plain": [
       "Year\n",
       "1985    185\n",
       "1986    185\n",
       "1987    185\n",
       "1988    185\n",
       "1989    185\n",
       "1990    185\n",
       "1991    185\n",
       "1992    185\n",
       "1993    185\n",
       "1994    185\n",
       "1995    185\n",
       "1996    185\n",
       "1997    185\n",
       "1998    185\n",
       "1999    185\n",
       "2000    185\n",
       "2001    185\n",
       "2002    185\n",
       "2003    185\n",
       "2004    185\n",
       "2005    185\n",
       "2006    185\n",
       "2007    185\n",
       "2008    185\n",
       "2009    185\n",
       "2010    185\n",
       "2011    185\n",
       "2012    185\n",
       "2013    185\n",
       "2014    185\n",
       "2015    185\n",
       "2016    185\n",
       "2017    185\n",
       "2018    185\n",
       "2019    185\n",
       "2020    185\n",
       "Name: count, dtype: int64"
      ]
     },
     "execution_count": 50,
     "metadata": {},
     "output_type": "execute_result"
    }
   ],
   "source": [
    "# Anzahl Datenpunkte pro Jahr\n",
    "data_oc['Year'].value_counts().sort_index()"
   ]
  },
  {
   "cell_type": "markdown",
   "id": "c1785f32",
   "metadata": {},
   "source": [
    "- Alle 185 Länder haben jedes Jahr gemäss dieser Kalkulation einen Datenpunkt."
   ]
  },
  {
   "cell_type": "markdown",
   "id": "07a954d8",
   "metadata": {},
   "source": [
    "## 3.3 Analyse \"geschätzte maternale Sterblichkeitsrate\""
   ]
  },
  {
   "cell_type": "code",
   "execution_count": 51,
   "id": "e916bb24",
   "metadata": {},
   "outputs": [
    {
     "data": {
      "text/html": [
       "<div>\n",
       "<style scoped>\n",
       "    .dataframe tbody tr th:only-of-type {\n",
       "        vertical-align: middle;\n",
       "    }\n",
       "\n",
       "    .dataframe tbody tr th {\n",
       "        vertical-align: top;\n",
       "    }\n",
       "\n",
       "    .dataframe thead th {\n",
       "        text-align: right;\n",
       "    }\n",
       "</style>\n",
       "<table border=\"1\" class=\"dataframe\">\n",
       "  <thead>\n",
       "    <tr style=\"text-align: right;\">\n",
       "      <th></th>\n",
       "      <th>Year</th>\n",
       "      <th>Estimated maternal deaths</th>\n",
       "    </tr>\n",
       "  </thead>\n",
       "  <tbody>\n",
       "    <tr>\n",
       "      <th>count</th>\n",
       "      <td>3885.00000</td>\n",
       "      <td>3885.000000</td>\n",
       "    </tr>\n",
       "    <tr>\n",
       "      <th>mean</th>\n",
       "      <td>2010.00000</td>\n",
       "      <td>1975.041503</td>\n",
       "    </tr>\n",
       "    <tr>\n",
       "      <th>std</th>\n",
       "      <td>6.05608</td>\n",
       "      <td>7601.037417</td>\n",
       "    </tr>\n",
       "    <tr>\n",
       "      <th>min</th>\n",
       "      <td>2000.00000</td>\n",
       "      <td>0.061462</td>\n",
       "    </tr>\n",
       "    <tr>\n",
       "      <th>25%</th>\n",
       "      <td>2005.00000</td>\n",
       "      <td>6.876064</td>\n",
       "    </tr>\n",
       "    <tr>\n",
       "      <th>50%</th>\n",
       "      <td>2010.00000</td>\n",
       "      <td>84.540115</td>\n",
       "    </tr>\n",
       "    <tr>\n",
       "      <th>75%</th>\n",
       "      <td>2015.00000</td>\n",
       "      <td>1089.378800</td>\n",
       "    </tr>\n",
       "    <tr>\n",
       "      <th>max</th>\n",
       "      <td>2020.00000</td>\n",
       "      <td>110009.700000</td>\n",
       "    </tr>\n",
       "  </tbody>\n",
       "</table>\n",
       "</div>"
      ],
      "text/plain": [
       "             Year  Estimated maternal deaths\n",
       "count  3885.00000                3885.000000\n",
       "mean   2010.00000                1975.041503\n",
       "std       6.05608                7601.037417\n",
       "min    2000.00000                   0.061462\n",
       "25%    2005.00000                   6.876064\n",
       "50%    2010.00000                  84.540115\n",
       "75%    2015.00000                1089.378800\n",
       "max    2020.00000              110009.700000"
      ]
     },
     "execution_count": 51,
     "metadata": {},
     "output_type": "execute_result"
    }
   ],
   "source": [
    "# Datenanalyse der 20 Jahre\n",
    "data_20.describe()"
   ]
  },
  {
   "cell_type": "markdown",
   "id": "1ae65ce5",
   "metadata": {},
   "source": [
    "- Die kleinste geschätzte maternale Sterblichkeitsrate pro Jahr beträgt 0.06 und die grösste 110’010 Tode. Der Mittelwert ist 1’975 weibliche Todesfälle, welche im Zusammenhang mit einer Schwangerschaft stehen."
   ]
  },
  {
   "cell_type": "code",
   "execution_count": 52,
   "id": "6860ce8a",
   "metadata": {},
   "outputs": [
    {
     "data": {
      "text/plain": [
       "<matplotlib.legend.Legend at 0x24e527543e0>"
      ]
     },
     "execution_count": 52,
     "metadata": {},
     "output_type": "execute_result"
    },
    {
     "data": {
      "image/png": "[encoded data removed]",
      "text/plain": [
       "<Figure size 640x480 with 1 Axes>"
      ]
     },
     "metadata": {},
     "output_type": "display_data"
    }
   ],
   "source": [
    "histogramm_data = data_20['Estimated maternal deaths'].plot(kind='hist', bins=20, title='Maternale Sterblichkeitsrate', \n",
    "                           xlabel='maternale Sterblichkeitsrate', ylabel='Anzahl Datenpunkte')\n",
    "mean = data_20['Estimated maternal deaths'].mean()\n",
    "histogramm_data.axvline(x=data_20['Estimated maternal deaths'].mean(), color='orange',label=f'Mittelwert = {mean:.2f}')  # Mittelwert sichtbar machen\n",
    "\n",
    "median = data_20['Estimated maternal deaths'].median()\n",
    "histogramm_data.axvline(x=data_20['Estimated maternal deaths'].median(), color='green',label=  f'Median = {median:.2f}')  # Median sichtbar machen\n",
    "\n",
    "histogramm_data.legend()"
   ]
  },
  {
   "cell_type": "markdown",
   "id": "bbdf3294",
   "metadata": {},
   "source": [
    "## 4. Analyse \n",
    "\n",
    "### Vorgehen\n",
    "- Spezifische Untersuchung der Fragestellung (Berechnungen)\n",
    "- Visualisieren der Resultate: Verwendet Achsenbeschriftung und überlegt euch, welche Art von Darstellung sinnvoll ist (Kuchen-, Säulen, Liniendiagramm; 2 y-Achsen?)\n",
    "- Beschreiben der Beobachtungen\n",
    "- Interpretation der Resultate (Hypothesen zu den Resultaten)\n",
    "- Untermauern der Interpretation mittels Hinweise zur Literatur (Mögliche Zusammenhänge aufzeigen).\n",
    "\n",
    "### Beobachtungen\n",
    "- Alle Länder der Top 10 liegen in Afrika, Süd-Asien oder Südost-Asien - Nigeria, Indien, Äthiopien, Demokratische Republik Kongo, Pakistan, Indonesien, Afghanistan, Bangladesh, Tanzania und Kenya.\n",
    "- Die afrikanischen Länder sind um den Äquator, den Regenwald, verteilt.\n",
    "- Eine Reduktion der Mortalitätsrate ist bei beinahe allen Ländern, über diese 20 Jahre zu beobachten. Ausgeschlossen bei dieser Aussage sind Nigeria, Kenia und die Demoktratische Republik Kongo, dies lässt sich aus der Differenz zwischen 2000 und 2020 herauslesen.\n",
    "\n",
    "\n",
    "### Interpretation\n",
    "- Die meisten Baby's werden in Asien und Afrika geboren, welches gleichzeitig auch Länder mit einem tiefen Einkommen sind. In diesen Länder steigt zudem die Mortaliätsrate durch eine Schwangerschaft, da die Frauen in diesen Länder im allgemeinen öfters schwanger werden und dem entsprechend auch die Gefahr steigt an den Risiken jeder Schwangerschaft zu sterben. \n",
    "- In ärmeren Ländern ist zudem die medizinische Versorgung schlechter und durch die in den 20 Jahren stark steigende Bevölkerung, vorallem in Nigeria, wird die medizinische Versorgung nicht wirklich nachkommen. (2)\n",
    "\n",
    "Im grossen Ganzen kann man sagen, dass die Versorgung von Schwangeren von 2000 bis 2020 stark verbessert werden konnten, es jedoch immer noch Länder gibt, welche steigende Zahlen aufzeigen."
   ]
  },
  {
   "cell_type": "code",
   "execution_count": 53,
   "id": "b9c05692",
   "metadata": {},
   "outputs": [
    {
     "data": {
      "text/plain": [
       "Entity\n",
       "Nigeria                        -20410.8400\n",
       "Democratic Republic of Congo    -6894.5180\n",
       "Chad                            -1973.7520\n",
       "Benin                           -1080.6381\n",
       "Cote d'Ivoire                    -835.5370\n",
       "                                   ...    \n",
       "China                            7278.4703\n",
       "Pakistan                        11511.4750\n",
       "Bangladesh                      12812.0200\n",
       "Ethiopia                        18186.4240\n",
       "India                           86256.6120\n",
       "Length: 185, dtype: float64"
      ]
     },
     "execution_count": 53,
     "metadata": {},
     "output_type": "execute_result"
    }
   ],
   "source": [
    "diffs = pivot_dataoc[2000]-pivot_dataoc[2020]   # Differenz zwischen 2000 und 2020\n",
    "diffs = diffs.sort_values()  # sortieren nach Differenz\n",
    "diffs"
   ]
  },
  {
   "cell_type": "code",
   "execution_count": 54,
   "id": "e5bf9d72",
   "metadata": {},
   "outputs": [
    {
     "data": {
      "text/plain": [
       "Entity\n",
       "Nigeria                         73665.903333\n",
       "India                           56552.621762\n",
       "Ethiopia                        20456.230905\n",
       "Democratic Republic of Congo    17854.712667\n",
       "Pakistan                        14991.813190\n",
       "Name: Estimated maternal deaths, dtype: float64"
      ]
     },
     "execution_count": 54,
     "metadata": {},
     "output_type": "execute_result"
    }
   ],
   "source": [
    "# für die Jahre 2000 bis 2020\n",
    "data_avg_deaths = (data_20.groupby('Entity')['Estimated maternal deaths']\n",
    "    .mean()\n",
    "    .sort_values(ascending=False)\n",
    "    .head(5)\n",
    ")\n",
    " \n",
    "\n",
    "# Die Top 5 Länder mit den höchsten durchschnittlichen maternalen Sterblichkeitsraten\n",
    "top_countries = data_avg_deaths.index.tolist()\n",
    "data_avg_deaths # nur 2000 bis 2020"
   ]
  },
  {
   "cell_type": "code",
   "execution_count": 55,
   "metadata": {},
   "outputs": [
    {
     "data": {
      "image/png": "[encoded data removed]",
      "text/plain": [
       "<Figure size 1200x600 with 1 Axes>"
      ]
     },
     "metadata": {},
     "output_type": "display_data"
    }
   ],
   "source": [
    "# Daten für spezifische Länder filtern\n",
    "specific_countries = [\"Nigeria\", \"India\", \"Ethiopia\", \"Democratic Republic of Congo\", \"Pakistan\"]\n",
    "country_data = data_20[data_20['Entity'].isin(specific_countries)]\n",
    "\n",
    "# Visualisierung der Entwicklung\n",
    "plt.figure(figsize=(12, 6))\n",
    "for country in specific_countries:\n",
    "    subset = country_data[country_data['Entity'] == country]\n",
    "    plt.plot(subset['Year'], subset['Estimated maternal deaths'], label=country, marker='o')\n",
    "\n",
    "# Diagramm anpassen\n",
    "plt.title('Maternale Todesrate (2000–2020)', fontsize=14)\n",
    "plt.xlabel('Jahr', fontsize=12)\n",
    "plt.ylabel('Geschätzte maternale Todesrate', fontsize=12)\n",
    "plt.legend(title='Länder')\n",
    "plt.grid(True)\n",
    "plt.show()"
   ]
  },
  {
   "cell_type": "code",
   "execution_count": 56,
   "id": "97849bf4",
   "metadata": {},
   "outputs": [
    {
     "data": {
      "image/png": "[encoded data removed]",
      "text/plain": [
       "<Figure size 1000x600 with 1 Axes>"
      ]
     },
     "metadata": {},
     "output_type": "display_data"
    }
   ],
   "source": [
    "# Histogramm der durchschnittlichen Sterblichkeitsraten aller Länder im Zeitraum 2000-2020\n",
    "\n",
    "plt.figure(figsize=(10, 6))\n",
    "plt.hist(data_20['Estimated maternal deaths'], bins=30, edgecolor='black', color='lightblue')\n",
    "plt.title('Verteilung der durchschnittlichen maternalen Todesfälle (2000-2020)', fontsize=14)\n",
    "plt.xlabel('Durchschnittliche maternale Todesfälle', fontsize=12)\n",
    "plt.ylabel('Anzahl der Länder', fontsize=12)\n",
    "plt.grid(True)\n",
    "plt.show()\n"
   ]
  },
  {
   "cell_type": "code",
   "execution_count": null,
   "id": "d7be9c45",
   "metadata": {},
   "outputs": [],
   "source": []
  }
 ],
 "metadata": {
  "kernelspec": {
   "display_name": "base",
   "language": "python",
   "name": "python3"
  },
  "language_info": {
   "codemirror_mode": {
    "name": "ipython",
    "version": 3
   },
   "file_extension": ".py",
   "mimetype": "text/x-python",
   "name": "python",
   "nbconvert_exporter": "python",
   "pygments_lexer": "ipython3",
   "version": "3.12.4"
  }
 },
 "nbformat": 4,
 "nbformat_minor": 5
}
